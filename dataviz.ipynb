{
 "cells": [
  {
   "cell_type": "code",
   "execution_count": 27,
   "metadata": {},
   "outputs": [],
   "source": [
    "import csv\n",
    "\n",
    "results = []\n",
    "\n",
    "with open('data.csv', 'r') as data:\n",
    "    csv_reader = csv.reader(data)\n",
    "    next(csv_reader)  # Skip header row\n",
    "    for row in csv_reader:\n",
    "        round_num, cooperate_score, defect_score, tit_for_tat_score, unforgiving_score, random_score, q_learning = row\n",
    "        results_data = {\n",
    "            \"round_num\": int(round_num),\n",
    "            \"cooperate_score\": float(cooperate_score) if cooperate_score != 'null' else None,\n",
    "            \"defect_score\": float(defect_score) if defect_score != 'null' else None,\n",
    "            \"tit_for_tat_score\": float(tit_for_tat_score) if tit_for_tat_score != 'null' else None,\n",
    "            \"unforgiving_score\": float(unforgiving_score) if unforgiving_score != 'null' else None,\n",
    "            \"random_score\": float(random_score) if random_score != 'null' else None,\n",
    "            \"q_learning\": float(q_learning) if q_learning != 'null' else None\n",
    "        }\n",
    "        results.append(results_data)\n",
    "\n",
    "# for i in results:\n",
    "#     print(i['q_learning'])"
   ]
  },
  {
   "cell_type": "code",
   "execution_count": 28,
   "metadata": {},
   "outputs": [
    {
     "data": {
      "text/html": [
       "\n",
       "        <iframe\n",
       "            width=\"100%\"\n",
       "            height=\"650\"\n",
       "            src=\"http://127.0.0.1:8050/\"\n",
       "            frameborder=\"0\"\n",
       "            allowfullscreen\n",
       "            \n",
       "        ></iframe>\n",
       "        "
      ],
      "text/plain": [
       "<IPython.lib.display.IFrame at 0x1e35ee57f70>"
      ]
     },
     "metadata": {},
     "output_type": "display_data"
    }
   ],
   "source": [
    "# Run this app with `python app.py` and\n",
    "# visit http://127.0.0.1:8050/ in your web browser.\n",
    "\n",
    "from dash import Dash, html, dcc\n",
    "import plotly.express as px\n",
    "import pandas as pd\n",
    "\n",
    "app = Dash(__name__)\n",
    "\n",
    "df = pd.DataFrame(results)\n",
    "\n",
    "# Melt the DataFrame to a long-form data structure\n",
    "df_melted = df.melt(id_vars=[\"round_num\"], value_vars=[\"defect_score\", \"tit_for_tat_score\", \"cooperate_score\", \"unforgiving_score\", \"random_score\", \"q_learning\"], \n",
    "                    var_name=\"strategy\", value_name=\"avg_score\")\n",
    "\n",
    "# Rename strategies for better readability in the plot\n",
    "df_melted['Strategy'] = df_melted['strategy'].replace({\n",
    "    \"defect_score\": \"Defect\",\n",
    "    \"tit_for_tat_score\": \"Tit-for-Tat\",\n",
    "    \"cooperate_score\": \"Cooperate\",\n",
    "    \"unforgiving_score\": \"Unforgiving\",\n",
    "    \"random_score\": \"Random\",\n",
    "    \"q_learning\": \"Q-Learning\"\n",
    "})\n",
    "\n",
    "# Create a line plot\n",
    "fig = px.line(df_melted, x=\"round_num\", y=\"avg_score\", color='Strategy', markers=True)\n",
    "fig.update_layout(\n",
    "    plot_bgcolor='white',\n",
    "    paper_bgcolor='white'\n",
    ")\n",
    "app.layout = html.Div(children=[\n",
    "    html.H1(children='Average Score per Strategy'),\n",
    "\n",
    "    html.Div(children='''\n",
    "        Interactive results for Cooperative, Tit-for-Tat, Defective, Unforgiving, Random, and Q-Learning.\n",
    "    '''),\n",
    "\n",
    "    dcc.Graph(\n",
    "        id='example-graph',\n",
    "        figure=fig\n",
    "    )\n",
    "])\n",
    "\n",
    "if __name__ == '__main__':\n",
    "    app.run(debug=True)"
   ]
  }
 ],
 "metadata": {
  "kernelspec": {
   "display_name": "Python 3 (ipykernel)",
   "language": "python",
   "name": "python3"
  },
  "language_info": {
   "codemirror_mode": {
    "name": "ipython",
    "version": 3
   },
   "file_extension": ".py",
   "mimetype": "text/x-python",
   "name": "python",
   "nbconvert_exporter": "python",
   "pygments_lexer": "ipython3",
   "version": "3.10.13"
  }
 },
 "nbformat": 4,
 "nbformat_minor": 4
}
